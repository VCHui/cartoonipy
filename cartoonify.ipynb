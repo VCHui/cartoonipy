{
  "cells": [
    {
      "metadata": {},
      "cell_type": "markdown",
      "source": "# A Very Simple Cartoonify of An Image"
    },
    {
      "metadata": {
        "trusted": true
      },
      "cell_type": "code",
      "source": "from IPython.display import ProgressBar\nfrom ipywidgets import interact, interact_manual, Text\nimport sys, os\nfrom io import BytesIO\nimport urllib\nimport numpy as np\nfrom matplotlib import pyplot as mp\nimport PIL.Image, PIL.ImageFilter\nprint('sys.platform:',sys.platform)",
      "execution_count": 1,
      "outputs": [
        {
          "output_type": "stream",
          "text": "sys.platform: linux\n",
          "name": "stdout"
        }
      ]
    },
    {
      "metadata": {
        "trusted": true
      },
      "cell_type": "code",
      "source": "def urlgetimg(url):\n    with urllib.request.urlopen(url) as response:\n        data = response.read()\n    if not isinstance(data,bytes):\n        print('download not bytes,',type(data))\n        return\n    return PIL.Image.open(BytesIO(data))\n\ndef cartoonify(img,r,colors):\n    img = img.filter(PIL.ImageFilter.BoxBlur(r))\n    img = img.convert(mode=\"P\",palette=PIL.Image.ADAPTIVE,colors=colors)\n    return img\n\ndef ax_imshow(img):\n    ax = mp.gca()\n    ax.imshow(img)\n    ax.set_xticklabels([])\n    ax.set_yticklabels([])\n\ndef showcartoonify():\n    def run(url):\n        if url == \"\":\n            return\n        img = urlgetimg(url)\n        def runcartoonify(r,colors):\n            mp.figure(figsize=(10,8))\n            ax = mp.subplot(1,2,1)\n            ax_imshow(img)\n            ax = mp.subplot(1,2,2)\n            ax_imshow(cartoonify(img,r,colors))\n            mp.tight_layout()\n            mp.show()\n        interact_manual(runcartoonify,r=(3,31),colors=(8,32,8))\n    interact(run,url=Text())\n\ninteract_manual.opts['manual_name'] = 'cartoonify'\nshowcartoonify()",
      "execution_count": 2,
      "outputs": [
        {
          "output_type": "display_data",
          "data": {
            "application/vnd.jupyter.widget-view+json": {
              "model_id": "6a4f292d8b844133806006807b16eda0",
              "version_minor": 0,
              "version_major": 2
            },
            "text/plain": "interactive(children=(Text(value='', description='url'), Output()), _dom_classes=('widget-interact',))"
          },
          "metadata": {}
        }
      ]
    }
  ],
  "metadata": {
    "kernelspec": {
      "name": "python36",
      "display_name": "Python 3.6",
      "language": "python"
    },
    "language_info": {
      "mimetype": "text/x-python",
      "nbconvert_exporter": "python",
      "name": "python",
      "pygments_lexer": "ipython3",
      "version": "3.6.6",
      "file_extension": ".py",
      "codemirror_mode": {
        "version": 3,
        "name": "ipython"
      }
    }
  },
  "nbformat": 4,
  "nbformat_minor": 2
}